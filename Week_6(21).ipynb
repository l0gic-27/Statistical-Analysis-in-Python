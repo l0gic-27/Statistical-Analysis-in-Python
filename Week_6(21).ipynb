{
 "cells": [
  {
   "cell_type": "code",
   "execution_count": 1,
   "id": "a49679e0-9619-4047-b059-e0dfce96376e",
   "metadata": {},
   "outputs": [
    {
     "name": "stdout",
     "output_type": "stream",
     "text": [
      "        age       sex       bmi        bp        s1        s2        s3  \\\n",
      "0  0.038076  0.050680  0.061696  0.021872 -0.044223 -0.034821 -0.043401   \n",
      "1 -0.001882 -0.044642 -0.051474 -0.026328 -0.008449 -0.019163  0.074412   \n",
      "2  0.085299  0.050680  0.044451 -0.005670 -0.045599 -0.034194 -0.032356   \n",
      "3 -0.089063 -0.044642 -0.011595 -0.036656  0.012191  0.024991 -0.036038   \n",
      "4  0.005383 -0.044642 -0.036385  0.021872  0.003935  0.015596  0.008142   \n",
      "\n",
      "         s4        s5        s6  target  \n",
      "0 -0.002592  0.019907 -0.017646   151.0  \n",
      "1 -0.039493 -0.068332 -0.092204    75.0  \n",
      "2 -0.002592  0.002861 -0.025930   141.0  \n",
      "3  0.034309  0.022688 -0.009362   206.0  \n",
      "4 -0.002592 -0.031988 -0.046641   135.0  \n"
     ]
    }
   ],
   "source": [
    "import pandas as pd\n",
    "from sklearn.datasets import load_diabetes\n",
    "\n",
    "# Load the dataset\n",
    "diabetes = load_diabetes()\n",
    "df = pd.DataFrame(data=diabetes.data, columns=diabetes.feature_names)\n",
    "df['target'] = diabetes.target\n",
    "\n",
    "# Display the first few rows\n",
    "print(df.head())"
   ]
  },
  {
   "cell_type": "code",
   "execution_count": 2,
   "id": "1c838fe7-ab27-4698-a3f3-40204981ac9b",
   "metadata": {},
   "outputs": [
    {
     "name": "stdout",
     "output_type": "stream",
     "text": [
      "Mean:\n",
      " age      -1.444295e-18\n",
      "sex       2.543215e-18\n",
      "bmi      -2.255925e-16\n",
      "bp       -4.854086e-17\n",
      "s1       -1.428596e-17\n",
      "s2        3.898811e-17\n",
      "s3       -6.028360e-18\n",
      "s4       -1.788100e-17\n",
      "s5        9.243486e-17\n",
      "s6        1.351770e-17\n",
      "target    1.521335e+02\n",
      "dtype: float64\n",
      "\n",
      "Median:\n",
      " age         0.005383\n",
      "sex        -0.044642\n",
      "bmi        -0.007284\n",
      "bp         -0.005670\n",
      "s1         -0.004321\n",
      "s2         -0.003819\n",
      "s3         -0.006584\n",
      "s4         -0.002592\n",
      "s5         -0.001947\n",
      "s6         -0.001078\n",
      "target    140.500000\n",
      "dtype: float64\n",
      "\n",
      "Mode:\n",
      " age        0.016281\n",
      "sex       -0.044642\n",
      "bmi       -0.030996\n",
      "bp        -0.040099\n",
      "s1        -0.037344\n",
      "s2        -0.001001\n",
      "s3        -0.013948\n",
      "s4        -0.039493\n",
      "s5        -0.018114\n",
      "s6         0.003064\n",
      "target    72.000000\n",
      "Name: 0, dtype: float64\n",
      "\n",
      "Standard Deviation:\n",
      " age        0.047619\n",
      "sex        0.047619\n",
      "bmi        0.047619\n",
      "bp         0.047619\n",
      "s1         0.047619\n",
      "s2         0.047619\n",
      "s3         0.047619\n",
      "s4         0.047619\n",
      "s5         0.047619\n",
      "s6         0.047619\n",
      "target    77.093005\n",
      "dtype: float64\n",
      "\n",
      "Variance:\n",
      " age          0.002268\n",
      "sex          0.002268\n",
      "bmi          0.002268\n",
      "bp           0.002268\n",
      "s1           0.002268\n",
      "s2           0.002268\n",
      "s3           0.002268\n",
      "s4           0.002268\n",
      "s5           0.002268\n",
      "s6           0.002268\n",
      "target    5943.331348\n",
      "dtype: float64\n",
      "\n",
      "Range:\n",
      " age         0.217952\n",
      "sex         0.095322\n",
      "bmi         0.260831\n",
      "bp          0.244442\n",
      "s1          0.280694\n",
      "s2          0.314401\n",
      "s3          0.283486\n",
      "s4          0.261629\n",
      "s5          0.259694\n",
      "s6          0.273379\n",
      "target    321.000000\n",
      "dtype: float64\n",
      "\n",
      "Skewness:\n",
      " age      -0.231382\n",
      "sex       0.127385\n",
      "bmi       0.598148\n",
      "bp        0.290658\n",
      "s1        0.378108\n",
      "s2        0.436592\n",
      "s3        0.799255\n",
      "s4        0.735374\n",
      "s5        0.291754\n",
      "s6        0.207917\n",
      "target    0.440563\n",
      "dtype: float64\n",
      "\n",
      "Kurtosis:\n",
      " age      -0.671224\n",
      "sex      -1.992811\n",
      "bmi       0.095094\n",
      "bp       -0.532797\n",
      "s1        0.232948\n",
      "s2        0.601381\n",
      "s3        0.981507\n",
      "s4        0.444402\n",
      "s5       -0.134367\n",
      "s6        0.236917\n",
      "target   -0.883057\n",
      "dtype: float64\n"
     ]
    }
   ],
   "source": [
    "# Calculate basic descriptive statistics\n",
    "print(\"Mean:\\n\", df.mean())\n",
    "print(\"\\nMedian:\\n\", df.median())\n",
    "print(\"\\nMode:\\n\", df.mode().iloc[0])\n",
    "print(\"\\nStandard Deviation:\\n\", df.std())\n",
    "print(\"\\nVariance:\\n\", df.var())\n",
    "\n",
    "# Additional descriptive statistics\n",
    "print(\"\\nRange:\\n\", df.max() - df.min())\n",
    "print(\"\\nSkewness:\\n\", df.skew())\n",
    "print(\"\\nKurtosis:\\n\", df.kurt())"
   ]
  },
  {
   "cell_type": "code",
   "execution_count": 3,
   "id": "a1037710-4ba9-44d4-91d6-427d1f9c3412",
   "metadata": {},
   "outputs": [
    {
     "name": "stdout",
     "output_type": "stream",
     "text": [
      "T-Statistic: -22.074985843710174\n",
      "P-Value: 2.7634312235044638e-73\n"
     ]
    }
   ],
   "source": [
    "#Performing Inferential Statistics\n",
    "\n",
    "from scipy import stats\n",
    "\n",
    "# Example data: BMI values\n",
    "bmi_values = df['bmi']\n",
    "\n",
    "# Hypothetical population mean for BMI\n",
    "population_mean = 0.05\n",
    "\n",
    "# Perform one-sample t-test\n",
    "t_stat, p_value = stats.ttest_1samp(bmi_values, population_mean)\n",
    "\n",
    "print(f\"T-Statistic: {t_stat}\")\n",
    "print(f\"P-Value: {p_value}\")"
   ]
  },
  {
   "cell_type": "code",
   "execution_count": 4,
   "id": "e43caef2-a183-4d78-bd84-f121ec02523c",
   "metadata": {},
   "outputs": [
    {
     "name": "stdout",
     "output_type": "stream",
     "text": [
      "95% Confidence Interval for BMI: (np.float64(-0.004439332370169141), np.float64(0.0044393323701686915))\n"
     ]
    }
   ],
   "source": [
    "#Confidence Intervals\n",
    "\n",
    "import numpy as np\n",
    "from scipy import stats\n",
    "\n",
    "# Sample mean and standard error for BMI\n",
    "sample_mean = np.mean(bmi_values)\n",
    "standard_error = stats.sem(bmi_values)\n",
    "\n",
    "# Compute 95% confidence interval for BMI\n",
    "confidence_interval = stats.norm.interval(0.95, loc=sample_mean, scale=standard_error)\n",
    "\n",
    "print(f\"95% Confidence Interval for BMI: {confidence_interval}\")"
   ]
  },
  {
   "cell_type": "code",
   "execution_count": 5,
   "id": "11143f47-d2bb-4834-b420-2fd21b52f4c4",
   "metadata": {},
   "outputs": [
    {
     "name": "stdout",
     "output_type": "stream",
     "text": [
      "                            OLS Regression Results                            \n",
      "==============================================================================\n",
      "Dep. Variable:                 target   R-squared:                       0.344\n",
      "Model:                            OLS   Adj. R-squared:                  0.342\n",
      "Method:                 Least Squares   F-statistic:                     230.7\n",
      "Date:                Sun, 08 Sep 2024   Prob (F-statistic):           3.47e-42\n",
      "Time:                        13:24:21   Log-Likelihood:                -2454.0\n",
      "No. Observations:                 442   AIC:                             4912.\n",
      "Df Residuals:                     440   BIC:                             4920.\n",
      "Df Model:                           1                                         \n",
      "Covariance Type:            nonrobust                                         \n",
      "==============================================================================\n",
      "                 coef    std err          t      P>|t|      [0.025      0.975]\n",
      "------------------------------------------------------------------------------\n",
      "const        152.1335      2.974     51.162      0.000     146.289     157.978\n",
      "bmi          949.4353     62.515     15.187      0.000     826.570    1072.301\n",
      "==============================================================================\n",
      "Omnibus:                       11.674   Durbin-Watson:                   1.848\n",
      "Prob(Omnibus):                  0.003   Jarque-Bera (JB):                7.310\n",
      "Skew:                           0.156   Prob(JB):                       0.0259\n",
      "Kurtosis:                       2.453   Cond. No.                         21.0\n",
      "==============================================================================\n",
      "\n",
      "Notes:\n",
      "[1] Standard Errors assume that the covariance matrix of the errors is correctly specified.\n"
     ]
    }
   ],
   "source": [
    "#Regression Analysis\n",
    "\n",
    "import statsmodels.api as sm\n",
    "\n",
    "# Define independent variable (add constant for intercept)\n",
    "X = sm.add_constant(df['bmi'])\n",
    "\n",
    "# Define dependent variable\n",
    "y = df['target']\n",
    "\n",
    "# Fit linear regression model\n",
    "model = sm.OLS(y, X).fit()\n",
    "\n",
    "# Print model summary\n",
    "print(model.summary())"
   ]
  },
  {
   "cell_type": "raw",
   "id": "acd236f1-58fa-41ef-901a-950b413f2aca",
   "metadata": {},
   "source": [
    "Analyzing a Health-Related Dataset\n",
    "Load the Dataset\n",
    "First, we will load the Heart Disease dataset using pandas.\n"
   ]
  },
  {
   "cell_type": "code",
   "execution_count": 2,
   "id": "dd4cc996-eb30-4b3b-9c3d-c3dde459a153",
   "metadata": {},
   "outputs": [
    {
     "data": {
      "text/html": [
       "<div>\n",
       "<style scoped>\n",
       "    .dataframe tbody tr th:only-of-type {\n",
       "        vertical-align: middle;\n",
       "    }\n",
       "\n",
       "    .dataframe tbody tr th {\n",
       "        vertical-align: top;\n",
       "    }\n",
       "\n",
       "    .dataframe thead th {\n",
       "        text-align: right;\n",
       "    }\n",
       "</style>\n",
       "<table border=\"1\" class=\"dataframe\">\n",
       "  <thead>\n",
       "    <tr style=\"text-align: right;\">\n",
       "      <th></th>\n",
       "      <th>age</th>\n",
       "      <th>sex</th>\n",
       "      <th>chest pain type</th>\n",
       "      <th>resting bp s</th>\n",
       "      <th>cholesterol</th>\n",
       "      <th>fasting blood sugar</th>\n",
       "      <th>resting ecg</th>\n",
       "      <th>max heart rate</th>\n",
       "      <th>exercise angina</th>\n",
       "      <th>oldpeak</th>\n",
       "      <th>ST slope</th>\n",
       "      <th>target</th>\n",
       "    </tr>\n",
       "  </thead>\n",
       "  <tbody>\n",
       "    <tr>\n",
       "      <th>0</th>\n",
       "      <td>40</td>\n",
       "      <td>1</td>\n",
       "      <td>2</td>\n",
       "      <td>140</td>\n",
       "      <td>289</td>\n",
       "      <td>0</td>\n",
       "      <td>0</td>\n",
       "      <td>172</td>\n",
       "      <td>0</td>\n",
       "      <td>0.0</td>\n",
       "      <td>1</td>\n",
       "      <td>0</td>\n",
       "    </tr>\n",
       "    <tr>\n",
       "      <th>1</th>\n",
       "      <td>49</td>\n",
       "      <td>0</td>\n",
       "      <td>3</td>\n",
       "      <td>160</td>\n",
       "      <td>180</td>\n",
       "      <td>0</td>\n",
       "      <td>0</td>\n",
       "      <td>156</td>\n",
       "      <td>0</td>\n",
       "      <td>1.0</td>\n",
       "      <td>2</td>\n",
       "      <td>1</td>\n",
       "    </tr>\n",
       "    <tr>\n",
       "      <th>2</th>\n",
       "      <td>37</td>\n",
       "      <td>1</td>\n",
       "      <td>2</td>\n",
       "      <td>130</td>\n",
       "      <td>283</td>\n",
       "      <td>0</td>\n",
       "      <td>1</td>\n",
       "      <td>98</td>\n",
       "      <td>0</td>\n",
       "      <td>0.0</td>\n",
       "      <td>1</td>\n",
       "      <td>0</td>\n",
       "    </tr>\n",
       "    <tr>\n",
       "      <th>3</th>\n",
       "      <td>48</td>\n",
       "      <td>0</td>\n",
       "      <td>4</td>\n",
       "      <td>138</td>\n",
       "      <td>214</td>\n",
       "      <td>0</td>\n",
       "      <td>0</td>\n",
       "      <td>108</td>\n",
       "      <td>1</td>\n",
       "      <td>1.5</td>\n",
       "      <td>2</td>\n",
       "      <td>1</td>\n",
       "    </tr>\n",
       "    <tr>\n",
       "      <th>4</th>\n",
       "      <td>54</td>\n",
       "      <td>1</td>\n",
       "      <td>3</td>\n",
       "      <td>150</td>\n",
       "      <td>195</td>\n",
       "      <td>0</td>\n",
       "      <td>0</td>\n",
       "      <td>122</td>\n",
       "      <td>0</td>\n",
       "      <td>0.0</td>\n",
       "      <td>1</td>\n",
       "      <td>0</td>\n",
       "    </tr>\n",
       "  </tbody>\n",
       "</table>\n",
       "</div>"
      ],
      "text/plain": [
       "   age  sex  chest pain type  resting bp s  cholesterol  fasting blood sugar  \\\n",
       "0   40    1                2           140          289                    0   \n",
       "1   49    0                3           160          180                    0   \n",
       "2   37    1                2           130          283                    0   \n",
       "3   48    0                4           138          214                    0   \n",
       "4   54    1                3           150          195                    0   \n",
       "\n",
       "   resting ecg  max heart rate  exercise angina  oldpeak  ST slope  target  \n",
       "0            0             172                0      0.0         1       0  \n",
       "1            0             156                0      1.0         2       1  \n",
       "2            1              98                0      0.0         1       0  \n",
       "3            0             108                1      1.5         2       1  \n",
       "4            0             122                0      0.0         1       0  "
      ]
     },
     "execution_count": 2,
     "metadata": {},
     "output_type": "execute_result"
    }
   ],
   "source": [
    "import pandas as pd\n",
    "\n",
    "# Load the dataset\n",
    "data = pd.read_csv(r\"C:\\Users\\sudha\\Downloads\\heart_statlog_cleveland_hungary_final.csv\")\n",
    "# Display the first few rows of the dataset\n",
    "data.head()\n"
   ]
  },
  {
   "cell_type": "raw",
   "id": "86d21adb-2b72-45b8-8fab-782907e4f4f4",
   "metadata": {},
   "source": [
    "Calculate Descriptive Statistics\n",
    "Next, we will calculate the mean, median, mode, standard deviation, and variance for relevant features.\n"
   ]
  },
  {
   "cell_type": "code",
   "execution_count": 20,
   "id": "9f1f81d9-bbfa-4227-9748-6e4dd76f56ff",
   "metadata": {},
   "outputs": [
    {
     "name": "stdout",
     "output_type": "stream",
     "text": [
      "                           Mean  Median   Mode  Standard Deviation  \\\n",
      "age                   53.720168    54.0   54.0            9.358203   \n",
      "sex                    0.763866     1.0    1.0            0.424884   \n",
      "chest pain type        3.232773     4.0    4.0            0.935480   \n",
      "resting bp s         132.153782   130.0  120.0           18.368823   \n",
      "cholesterol          210.363866   229.0    0.0          101.420489   \n",
      "fasting blood sugar    0.213445     0.0    0.0            0.409912   \n",
      "resting ecg            0.698319     0.0    0.0            0.870359   \n",
      "max heart rate       139.732773   140.5  150.0           25.517636   \n",
      "exercise angina        0.387395     0.0    0.0            0.487360   \n",
      "oldpeak                0.922773     0.6    0.0            1.086337   \n",
      "ST slope               1.624370     2.0    2.0            0.610459   \n",
      "target                 0.528571     1.0    1.0            0.499393   \n",
      "\n",
      "                         Variance  \n",
      "age                     87.575960  \n",
      "sex                      0.180527  \n",
      "chest pain type          0.875124  \n",
      "resting bp s           337.413674  \n",
      "cholesterol          10286.115598  \n",
      "fasting blood sugar      0.168028  \n",
      "resting ecg              0.757525  \n",
      "max heart rate         651.149724  \n",
      "exercise angina          0.237520  \n",
      "oldpeak                  1.180129  \n",
      "ST slope                 0.372660  \n",
      "target                   0.249393  \n"
     ]
    }
   ],
   "source": [
    "# Calculate mean, median, mode, standard deviation, and variance\n",
    "descriptive_stats = {\n",
    "    'Mean': data.mean(),\n",
    "    'Median': data.median(),\n",
    "    'Mode': data.mode().iloc[0],\n",
    "    'Standard Deviation': data.std(),\n",
    "    'Variance': data.var()\n",
    "}\n",
    "\n",
    "descriptive_stats_df = pd.DataFrame(descriptive_stats)\n",
    "print(descriptive_stats_df)\n"
   ]
  },
  {
   "cell_type": "raw",
   "id": "1da235a5-f6d3-4016-9a40-4ebbf0f7d6ad",
   "metadata": {},
   "source": [
    "Conduct a Hypothesis Test\n",
    "Let’s conduct a hypothesis test to determine if the average cholesterol level (chol) is significantly different from a chosen value (e.g., 200)."
   ]
  },
  {
   "cell_type": "code",
   "execution_count": 23,
   "id": "88455e7d-129a-42c0-ab36-10a0c4f8140b",
   "metadata": {},
   "outputs": [
    {
     "name": "stdout",
     "output_type": "stream",
     "text": [
      "T-statistic: 3.5250846500630435, P-value: 0.00043944322756286143\n"
     ]
    }
   ],
   "source": [
    "from scipy import stats\n",
    "\n",
    "# Set the chosen value\n",
    "chosen_value = 200\n",
    "\n",
    "# Perform a one-sample t-test\n",
    "t_statistic, p_value = stats.ttest_1samp(data['cholesterol'], chosen_value)\n",
    "\n",
    "# Display the results\n",
    "print(f\"T-statistic: {t_statistic}, P-value: {p_value}\")\n"
   ]
  },
  {
   "cell_type": "raw",
   "id": "9ae09fe7-20f9-474a-8509-84d0af816e19",
   "metadata": {},
   "source": [
    "Compute a 95% Confidence Interval\n",
    "We will compute a 95% confidence interval for the mean of the cholesterol levels."
   ]
  },
  {
   "cell_type": "code",
   "execution_count": 26,
   "id": "13915b09-f65d-489f-b248-3810bc76fe87",
   "metadata": {},
   "outputs": [
    {
     "name": "stdout",
     "output_type": "stream",
     "text": [
      "95% Confidence Interval for Cholesterol: (np.float64(204.59563478483102), np.float64(216.13209630760593))\n"
     ]
    }
   ],
   "source": [
    "import numpy as np\n",
    "\n",
    "# Calculate the mean and standard error\n",
    "mean_chol = data['cholesterol'].mean()\n",
    "std_error = stats.sem(data['cholesterol'])\n",
    "\n",
    "# Calculate the confidence interval\n",
    "confidence_level = 0.95\n",
    "degrees_freedom = len(data['cholesterol']) - 1\n",
    "confidence_interval = stats.t.interval(confidence_level, degrees_freedom, mean_chol, std_error)\n",
    "\n",
    "print(f\"95% Confidence Interval for Cholesterol: {confidence_interval}\")\n"
   ]
  },
  {
   "cell_type": "code",
   "execution_count": null,
   "id": "6f294c16-5710-48ae-aed9-7cb9d52930d2",
   "metadata": {},
   "outputs": [],
   "source": [
    "Exploring Regression Analysis on the Heart Disease Dataset\n",
    "Perform Linear Regression Analysis\n",
    "We will analyze how age impacts cholesterol levels."
   ]
  },
  {
   "cell_type": "raw",
   "id": "a2f747a6-7493-43f0-a87c-38cdfe7972e1",
   "metadata": {},
   "source": [
    "Data Preprocessing\n",
    "We will check for missing values and ensure that the relevant features are in the correct format."
   ]
  },
  {
   "cell_type": "code",
   "execution_count": 27,
   "id": "c2ed2025-b44e-423d-8217-d20019e1982f",
   "metadata": {},
   "outputs": [
    {
     "name": "stdout",
     "output_type": "stream",
     "text": [
      "age                    0\n",
      "sex                    0\n",
      "chest pain type        0\n",
      "resting bp s           0\n",
      "cholesterol            0\n",
      "fasting blood sugar    0\n",
      "resting ecg            0\n",
      "max heart rate         0\n",
      "exercise angina        0\n",
      "oldpeak                0\n",
      "ST slope               0\n",
      "target                 0\n",
      "dtype: int64\n",
      "age                      int64\n",
      "sex                      int64\n",
      "chest pain type          int64\n",
      "resting bp s             int64\n",
      "cholesterol              int64\n",
      "fasting blood sugar      int64\n",
      "resting ecg              int64\n",
      "max heart rate           int64\n",
      "exercise angina          int64\n",
      "oldpeak                float64\n",
      "ST slope                 int64\n",
      "target                   int64\n",
      "dtype: object\n"
     ]
    }
   ],
   "source": [
    "# Check for missing values\n",
    "print(data.isnull().sum())\n",
    "\n",
    "# Display the data types\n",
    "print(data.dtypes)\n"
   ]
  },
  {
   "cell_type": "raw",
   "id": "1a829e2d-268f-42fc-8e27-1d4a65cbaae1",
   "metadata": {},
   "source": [
    "Linear Regression Analysis\n",
    "Let's analyze how age impacts chol (cholesterol levels). We'll perform a linear regression analysis."
   ]
  },
  {
   "cell_type": "code",
   "execution_count": 29,
   "id": "1f8c69c7-5be9-4220-8819-fe67383e6ba3",
   "metadata": {},
   "outputs": [
    {
     "name": "stdout",
     "output_type": "stream",
     "text": [
      "                            OLS Regression Results                            \n",
      "==============================================================================\n",
      "Dep. Variable:            cholesterol   R-squared:                       0.002\n",
      "Model:                            OLS   Adj. R-squared:                  0.001\n",
      "Method:                 Least Squares   F-statistic:                     2.571\n",
      "Date:                Sun, 08 Sep 2024   Prob (F-statistic):              0.109\n",
      "Time:                        13:56:40   Log-Likelihood:                -7183.7\n",
      "No. Observations:                1190   AIC:                         1.437e+04\n",
      "Df Residuals:                    1188   BIC:                         1.438e+04\n",
      "Df Model:                           1                                         \n",
      "Covariance Type:            nonrobust                                         \n",
      "==============================================================================\n",
      "                 coef    std err          t      P>|t|      [0.025      0.975]\n",
      "------------------------------------------------------------------------------\n",
      "const        237.4200     17.127     13.862      0.000     203.818     271.022\n",
      "age           -0.5036      0.314     -1.604      0.109      -1.120       0.113\n",
      "==============================================================================\n",
      "Omnibus:                      109.698   Durbin-Watson:                   0.789\n",
      "Prob(Omnibus):                  0.000   Jarque-Bera (JB):              144.205\n",
      "Skew:                          -0.755   Prob(JB):                     4.86e-32\n",
      "Kurtosis:                       3.792   Cond. No.                         318.\n",
      "==============================================================================\n",
      "\n",
      "Notes:\n",
      "[1] Standard Errors assume that the covariance matrix of the errors is correctly specified.\n"
     ]
    }
   ],
   "source": [
    "import statsmodels.api as sm\n",
    "\n",
    "# Define independent and dependent variables\n",
    "X = data['age']  # Independent variable\n",
    "y = data['cholesterol']  # Dependent variable\n",
    "\n",
    "# Add a constant to the model (intercept)\n",
    "X = sm.add_constant(X)\n",
    "\n",
    "# Fit the model\n",
    "model = sm.OLS(y, X).fit()\n",
    "\n",
    "# Display the model summary\n",
    "model_summary = model.summary()\n",
    "print(model_summary)\n"
   ]
  },
  {
   "cell_type": "raw",
   "id": "3c176257-6ad5-4947-b5f0-78170fbdcb42",
   "metadata": {},
   "source": [
    "Model Summary Interpretation\n",
    "Coefficients: The coefficient for age indicates how much cholesterol levels change with a one-year increase in age.\n",
    "P-values: A p-value < 0.05 suggests that the relationship is statistically significant.\n",
    "R-squared: This value indicates the proportion of the variance in cholesterol levels that can be explained by age.\n",
    "Visualizations\n",
    "We'll create visualizations to illustrate the relationship between age and cholesterol levels along with the regression line."
   ]
  },
  {
   "cell_type": "code",
   "execution_count": 31,
   "id": "2c7997d4-d2b2-4f25-864f-9f5cfa629b90",
   "metadata": {},
   "outputs": [
    {
     "data": {
      "image/png": "[encoded data removed]",
      "text/plain": [
       "<Figure size 1000x600 with 1 Axes>"
      ]
     },
     "metadata": {},
     "output_type": "display_data"
    }
   ],
   "source": [
    "import matplotlib.pyplot as plt\n",
    "import seaborn as sns\n",
    "\n",
    "# Set the style\n",
    "sns.set(style=\"whitegrid\")\n",
    "\n",
    "# Create a scatter plot\n",
    "plt.figure(figsize=(10, 6))\n",
    "sns.scatterplot(x='age', y='cholesterol', data=data, color='blue', label='Data Points')\n",
    "\n",
    "# Plot the regression line\n",
    "plt.plot(data['age'], model.predict(X), color='red', label='Regression Line')\n",
    "\n",
    "# Add titles and labels\n",
    "plt.title('Age vs Cholesterol Levels with Regression Line')\n",
    "plt.xlabel('Age')\n",
    "plt.ylabel('Cholesterol Levels')\n",
    "plt.legend()\n",
    "plt.show()\n"
   ]
  }
 ],
 "metadata": {
  "kernelspec": {
   "display_name": "Python 3 (ipykernel)",
   "language": "python",
   "name": "python3"
  },
  "language_info": {
   "codemirror_mode": {
    "name": "ipython",
    "version": 3
   },
   "file_extension": ".py",
   "mimetype": "text/x-python",
   "name": "python",
   "nbconvert_exporter": "python",
   "pygments_lexer": "ipython3",
   "version": "3.12.0"
  }
 },
 "nbformat": 4,
 "nbformat_minor": 5
}
